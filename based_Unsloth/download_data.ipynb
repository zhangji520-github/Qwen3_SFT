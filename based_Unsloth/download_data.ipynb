{
 "cells": [
  {
   "cell_type": "code",
   "execution_count": 61,
   "id": "5030f3e5",
   "metadata": {},
   "outputs": [],
   "source": [
    "from datasets import load_dataset\n",
    "\n",
    "unreason_ds = load_dataset(\"BAAI/IndustryInstruction_Health-Medicine\",cache_dir=\"./data/un_reason/\",split=\"train[:10]\")"
   ]
  },
  {
   "cell_type": "code",
   "execution_count": 62,
   "id": "0d79bb1f",
   "metadata": {},
   "outputs": [],
   "source": [
    "from transformers import AutoTokenizer\n",
    "tokenizer = AutoTokenizer.from_pretrained(\"Qwen/Qwen2.5-0.5B-Instruct\")"
   ]
  },
  {
   "cell_type": "code",
   "execution_count": 63,
   "id": "27252111",
   "metadata": {},
   "outputs": [
    {
     "data": {
      "text/plain": [
       "Dataset({\n",
       "    features: ['instruction', 'id', 'conversations', 'lang'],\n",
       "    num_rows: 10\n",
       "})"
      ]
     },
     "execution_count": 63,
     "metadata": {},
     "output_type": "execute_result"
    }
   ],
   "source": [
    "unreason_ds"
   ]
  },
  {
   "cell_type": "code",
   "execution_count": 64,
   "id": "21128873",
   "metadata": {},
   "outputs": [
    {
     "data": {
      "text/plain": [
       "{'instruction': '',\n",
       " 'id': 'industry-instruction-edu',\n",
       " 'conversations': [{'from': 'human',\n",
       "   'value': '问：右侧桥小区囊性占位，囊肿可能大。偏肢体发育不良，巨脑回；右侧桥小脑区囊性占位，囊肿可能大.曾经治疗情况和效果：左手左脚没有右面灵活，爱往左歪脖，曾经感冒发烧39度抽过3、4次，抽时症状：身体僵硬呕吐。不知道是和囊肿有关还是和发育不良有关'},\n",
       "  {'from': 'gpt',\n",
       "   'value': '答：根据你描述的症状和病史，右侧桥小区囊性占位可能是导致偏肢体发育不良和巨脑回的原因之一。囊肿的大小可能也会对症状产生影响。\\n\\n至于感冒发烧抽搐的症状，这可能与囊肿有关，也可能与发育不良有关。囊肿对中枢神经系统的正常功能可能会有影响，导致肌肉僵硬和呕吐等症状。\\n\\n然而，请注意，我只是凭借你提供的信息做出初步推断，而不能提供确切的诊断。为了明确病因和确定最佳治疗方案，我建议你尽快咨询专业的医生进行详细的检查和进一步的评估。他们可以根据你的具体情况给出准确的诊断和建议。'},\n",
       "  {'from': 'human', 'value': '问：现在这个囊肿就已经压迫脑干了，如果以后再长大把脑干都压上了以后手术是不是就很难很危险了'},\n",
       "  {'from': 'gpt',\n",
       "   'value': '答：如果囊肿已经压迫了脑干，那么情况确实比较复杂和危险。手术可能会变得更具风险，因为脑干是一个重要的神经结构，手术过程中需要小心以避免额外的损伤。\\n\\n不过，你的具体情况需要医生进行详细的评估和决策。专业医生将会考虑多个因素，包括囊肿的位置、大小、对周围结构的影响以及你的整体健康状况等等。他们会权衡手术的利弊，并与你详细讨论手术风险和可能的好处。\\n\\n最重要的是，请务必在专业医生的指导下进行进一步的治疗和管理。他们能够为你提供最佳的个性化建议，并指导你选择最适合你情况的治疗方案。'}],\n",
       " 'lang': 'zh'}"
      ]
     },
     "execution_count": 64,
     "metadata": {},
     "output_type": "execute_result"
    }
   ],
   "source": [
    "unreason_ds[0]"
   ]
  },
  {
   "cell_type": "code",
   "execution_count": 65,
   "id": "d400c642",
   "metadata": {},
   "outputs": [
    {
     "name": "stderr",
     "output_type": "stream",
     "text": [
      "num_proc must be <= 10. Reducing num_proc to 10 for dataset of size 10.\n"
     ]
    },
    {
     "data": {
      "text/plain": [
       "Dataset({\n",
       "    features: ['instruction', 'id', 'conversations', 'lang'],\n",
       "    num_rows: 10\n",
       "})"
      ]
     },
     "execution_count": 65,
     "metadata": {},
     "output_type": "execute_result"
    }
   ],
   "source": [
    "# 非推理数据集的处理，原始数据集是sharegpt格式，先处理成chatml格式\n",
    "from unsloth import standardize_sharegpt\n",
    "unreason_ds = standardize_sharegpt(unreason_ds)\n",
    "unreason_ds"
   ]
  },
  {
   "cell_type": "code",
   "execution_count": 66,
   "id": "aaa4d198",
   "metadata": {},
   "outputs": [
    {
     "data": {
      "text/plain": [
       "{'instruction': '',\n",
       " 'id': 'industry-instruction-edu',\n",
       " 'conversations': [{'content': '问：右侧桥小区囊性占位，囊肿可能大。偏肢体发育不良，巨脑回；右侧桥小脑区囊性占位，囊肿可能大.曾经治疗情况和效果：左手左脚没有右面灵活，爱往左歪脖，曾经感冒发烧39度抽过3、4次，抽时症状：身体僵硬呕吐。不知道是和囊肿有关还是和发育不良有关',\n",
       "   'role': 'user'},\n",
       "  {'content': '答：根据你描述的症状和病史，右侧桥小区囊性占位可能是导致偏肢体发育不良和巨脑回的原因之一。囊肿的大小可能也会对症状产生影响。\\n\\n至于感冒发烧抽搐的症状，这可能与囊肿有关，也可能与发育不良有关。囊肿对中枢神经系统的正常功能可能会有影响，导致肌肉僵硬和呕吐等症状。\\n\\n然而，请注意，我只是凭借你提供的信息做出初步推断，而不能提供确切的诊断。为了明确病因和确定最佳治疗方案，我建议你尽快咨询专业的医生进行详细的检查和进一步的评估。他们可以根据你的具体情况给出准确的诊断和建议。',\n",
       "   'role': 'assistant'},\n",
       "  {'content': '问：现在这个囊肿就已经压迫脑干了，如果以后再长大把脑干都压上了以后手术是不是就很难很危险了', 'role': 'user'},\n",
       "  {'content': '答：如果囊肿已经压迫了脑干，那么情况确实比较复杂和危险。手术可能会变得更具风险，因为脑干是一个重要的神经结构，手术过程中需要小心以避免额外的损伤。\\n\\n不过，你的具体情况需要医生进行详细的评估和决策。专业医生将会考虑多个因素，包括囊肿的位置、大小、对周围结构的影响以及你的整体健康状况等等。他们会权衡手术的利弊，并与你详细讨论手术风险和可能的好处。\\n\\n最重要的是，请务必在专业医生的指导下进行进一步的治疗和管理。他们能够为你提供最佳的个性化建议，并指导你选择最适合你情况的治疗方案。',\n",
       "   'role': 'assistant'}],\n",
       " 'lang': 'zh'}"
      ]
     },
     "execution_count": 66,
     "metadata": {},
     "output_type": "execute_result"
    }
   ],
   "source": [
    "unreason_ds[0]"
   ]
  },
  {
   "cell_type": "code",
   "execution_count": 71,
   "id": "db360b41",
   "metadata": {},
   "outputs": [
    {
     "name": "stdout",
     "output_type": "stream",
     "text": [
      "Dataset({\n",
      "    features: ['conversations'],\n",
      "    num_rows: 15\n",
      "})\n",
      "{'conversations': [{'content': '问：右侧桥小区囊性占位，囊肿可能大。偏肢体发育不良，巨脑回；右侧桥小脑区囊性占位，囊肿可能大.曾经治疗情况和效果：左手左脚没有右面灵活，爱往左歪脖，曾经感冒发烧39度抽过3、4次，抽时症状：身体僵硬呕吐。不知道是和囊肿有关还是和发育不良有关', 'role': 'user'}, {'content': '答：根据你描述的症状和病史，右侧桥小区囊性占位可能是导致偏肢体发育不良和巨脑回的原因之一。囊肿的大小可能也会对症状产生影响。\\n\\n至于感冒发烧抽搐的症状，这可能与囊肿有关，也可能与发育不良有关。囊肿对中枢神经系统的正常功能可能会有影响，导致肌肉僵硬和呕吐等症状。\\n\\n然而，请注意，我只是凭借你提供的信息做出初步推断，而不能提供确切的诊断。为了明确病因和确定最佳治疗方案，我建议你尽快咨询专业的医生进行详细的检查和进一步的评估。他们可以根据你的具体情况给出准确的诊断和建议。', 'role': 'assistant'}]}\n"
     ]
    }
   ],
   "source": [
    "from datasets import Dataset\n",
    "import itertools\n",
    "\n",
    "def split_conversations_to_single_round(unreason_ds):\n",
    "    new_samples = []\n",
    "    \n",
    "    for sample in unreason_ds:\n",
    "        convs = sample['conversations']\n",
    "        # 按 user -> assistant 成对提取\n",
    "        for i in range(0, len(convs), 2):\n",
    "            if i + 1 < len(convs):\n",
    "                user_turn = convs[i]\n",
    "                assistant_turn = convs[i + 1]\n",
    "                # 确保角色正确\n",
    "                if user_turn['role'] == 'user' and assistant_turn['role'] == 'assistant':\n",
    "                    new_sample = {\n",
    "                        'conversations': [user_turn, assistant_turn]\n",
    "                    }\n",
    "                    new_samples.append(new_sample)\n",
    "    return new_samples\n",
    "\n",
    "# 执行拆分\n",
    "flat_conversations = split_conversations_to_single_round(unreason_ds)\n",
    "\n",
    "# 转为 HuggingFace Dataset\n",
    "new_dataset = Dataset.from_list(flat_conversations)\n",
    "\n",
    "# 输出查看\n",
    "print(new_dataset)\n",
    "print(new_dataset[0])"
   ]
  },
  {
   "cell_type": "code",
   "execution_count": 74,
   "id": "fd1eed89",
   "metadata": {},
   "outputs": [
    {
     "data": {
      "text/plain": [
       "{'conversations': [{'content': '请阅读问题并提供正确的答复。\\n问题：女性，50岁，上腹痛3月余，2月前钡透为胃窦后壁溃疡，经抗溃疡药物治疗8周疼痛曾一过性缓解，进一步处理应首选__选项：A. 继续药物治疗 B. 反复查便隐血试验 C. 钡餐检查 D. 胃镜检查 E. 手术治疗 ',\n",
       "   'role': 'user'},\n",
       "  {'content': '答案是：D', 'role': 'assistant'}]}"
      ]
     },
     "execution_count": 74,
     "metadata": {},
     "output_type": "execute_result"
    }
   ],
   "source": [
    "new_dataset[3]"
   ]
  },
  {
   "cell_type": "code",
   "execution_count": 75,
   "id": "7652cf16",
   "metadata": {},
   "outputs": [
    {
     "data": {
      "application/vnd.jupyter.widget-view+json": {
       "model_id": "98c4e86b2785458cbd1fff6b2971e34b",
       "version_major": 2,
       "version_minor": 0
      },
      "text/plain": [
       "Map:   0%|          | 0/15 [00:00<?, ? examples/s]"
      ]
     },
     "metadata": {},
     "output_type": "display_data"
    },
    {
     "data": {
      "text/plain": [
       "Dataset({\n",
       "    features: ['text'],\n",
       "    num_rows: 15\n",
       "})"
      ]
     },
     "execution_count": 75,
     "metadata": {},
     "output_type": "execute_result"
    }
   ],
   "source": [
    "def formatting_prompts_func(examples):\n",
    "   convos = examples[\"conversations\"]\n",
    "   texts = [tokenizer.apply_chat_template(convo, tokenize = False, add_generation_prompt = False) for convo in convos]\n",
    "   return { \"text\" : texts, }\n",
    "\n",
    "# Apply the formatting function to your dataset using the map method\n",
    "test_dataset = new_dataset.map(formatting_prompts_func, batched = True,remove_columns=new_dataset.column_names)\n",
    "test_dataset"
   ]
  },
  {
   "cell_type": "code",
   "execution_count": 77,
   "id": "13ce5a96",
   "metadata": {},
   "outputs": [
    {
     "data": {
      "text/plain": [
       "{'text': '<|im_start|>system\\nYou are Qwen, created by Alibaba Cloud. You are a helpful assistant.<|im_end|>\\n<|im_start|>user\\n问：右侧桥小区囊性占位，囊肿可能大。偏肢体发育不良，巨脑回；右侧桥小脑区囊性占位，囊肿可能大.曾经治疗情况和效果：左手左脚没有右面灵活，爱往左歪脖，曾经感冒发烧39度抽过3、4次，抽时症状：身体僵硬呕吐。不知道是和囊肿有关还是和发育不良有关<|im_end|>\\n<|im_start|>assistant\\n答：根据你描述的症状和病史，右侧桥小区囊性占位可能是导致偏肢体发育不良和巨脑回的原因之一。囊肿的大小可能也会对症状产生影响。\\n\\n至于感冒发烧抽搐的症状，这可能与囊肿有关，也可能与发育不良有关。囊肿对中枢神经系统的正常功能可能会有影响，导致肌肉僵硬和呕吐等症状。\\n\\n然而，请注意，我只是凭借你提供的信息做出初步推断，而不能提供确切的诊断。为了明确病因和确定最佳治疗方案，我建议你尽快咨询专业的医生进行详细的检查和进一步的评估。他们可以根据你的具体情况给出准确的诊断和建议。<|im_end|>\\n'}"
      ]
     },
     "execution_count": 77,
     "metadata": {},
     "output_type": "execute_result"
    }
   ],
   "source": [
    "test_dataset[0]"
   ]
  },
  {
   "cell_type": "code",
   "execution_count": 79,
   "id": "c7e020b4",
   "metadata": {},
   "outputs": [
    {
     "data": {
      "application/vnd.jupyter.widget-view+json": {
       "model_id": "eecfb4c6797446f1a135ab787ab313b6",
       "version_major": 2,
       "version_minor": 0
      },
      "text/plain": [
       "Map:   0%|          | 0/15 [00:00<?, ? examples/s]"
      ]
     },
     "metadata": {},
     "output_type": "display_data"
    },
    {
     "data": {
      "text/plain": [
       "{'text': '<|start_header_id|>user<|end_header_id|>\\n\\n问：右侧桥小区囊性占位，囊肿可能大。偏肢体发育不良，巨脑回；右侧桥小脑区囊性占位，囊肿可能大.曾经治疗情况和效果：左手左脚没有右面灵活，爱往左歪脖，曾经感冒发烧39度抽过3、4次，抽时症状：身体僵硬呕吐。不知道是和囊肿有关还是和发育不良有关<|eot_id|><|start_header_id|>assistant<|end_header_id|>\\n\\n答：根据你描述的症状和病史，右侧桥小区囊性占位可能是导致偏肢体发育不良和巨脑回的原因之一。囊肿的大小可能也会对症状产生影响。\\n\\n至于感冒发烧抽搐的症状，这可能与囊肿有关，也可能与发育不良有关。囊肿对中枢神经系统的正常功能可能会有影响，导致肌肉僵硬和呕吐等症状。\\n\\n然而，请注意，我只是凭借你提供的信息做出初步推断，而不能提供确切的诊断。为了明确病因和确定最佳治疗方案，我建议你尽快咨询专业的医生进行详细的检查和进一步的评估。他们可以根据你的具体情况给出准确的诊断和建议。<|eot_id|>'}"
      ]
     },
     "execution_count": 79,
     "metadata": {},
     "output_type": "execute_result"
    }
   ],
   "source": [
    "from unsloth.chat_templates import get_chat_template\n",
    "# 可以利用 get_chat_template 选择喜欢的格式 比如llama\n",
    "tokenizer = get_chat_template(\n",
    "    tokenizer,\n",
    "    chat_template = \"llama3\", # Supports zephyr, chatml, mistral, llama, alpaca, vicuna, vicuna_old, unsloth\n",
    "    mapping = {\"role\" : \"from\", \"content\" : \"value\", \"user\" : \"human\", \"assistant\" : \"gpt\"}, # ShareGPT style\n",
    "    map_eos_token = True, # Maps <|im_end|> to </s> instead\n",
    ")\n",
    "\n",
    "def formatting_prompts_func(examples):\n",
    "   convos = examples[\"conversations\"]\n",
    "   texts = [tokenizer.apply_chat_template(convo, tokenize = False, add_generation_prompt = False) for convo in convos]\n",
    "   return { \"text\" : texts, }\n",
    "\n",
    "# Apply the formatting function to your dataset using the map method\n",
    "test_dataset = new_dataset.map(formatting_prompts_func, batched = True,remove_columns=new_dataset.column_names)\n",
    "test_dataset[0]"
   ]
  },
  {
   "cell_type": "code",
   "execution_count": 6,
   "id": "f96928a3",
   "metadata": {},
   "outputs": [
    {
     "name": "stderr",
     "output_type": "stream",
     "text": [
      "Exception in thread Thread-10 (_readerthread):\n",
      "Traceback (most recent call last):\n",
      "  File \"e:\\Workspace\\Anaconda\\envs\\deep_learning\\Lib\\threading.py\", line 1073, in _bootstrap_inner\n",
      "    self.run()\n",
      "  File \"e:\\Workspace\\Anaconda\\envs\\deep_learning\\Lib\\site-packages\\ipykernel\\ipkernel.py\", line 766, in run_closure\n",
      "    _threading_Thread_run(self)\n",
      "  File \"e:\\Workspace\\Anaconda\\envs\\deep_learning\\Lib\\threading.py\", line 1010, in run\n",
      "    self._target(*self._args, **self._kwargs)\n",
      "  File \"e:\\Workspace\\Anaconda\\envs\\deep_learning\\Lib\\subprocess.py\", line 1599, in _readerthread\n",
      "    buffer.append(fh.read())\n",
      "                  ^^^^^^^^^\n",
      "  File \"<frozen codecs>\", line 322, in decode\n",
      "UnicodeDecodeError: 'utf-8' codec can't decode byte 0xc0 in position 10: invalid start byte\n"
     ]
    },
    {
     "data": {
      "application/vnd.jupyter.widget-view+json": {
       "model_id": "59d658f75fa049bc982814d130b6d255",
       "version_major": 2,
       "version_minor": 0
      },
      "text/plain": [
       "VBox(children=(HTML(value='<center> <img\\nsrc=https://huggingface.co/front/assets/huggingface_logo-noborder.sv…"
      ]
     },
     "metadata": {},
     "output_type": "display_data"
    }
   ],
   "source": [
    "import subprocess\n",
    "import os\n",
    "\n",
    "result = subprocess.run('bash -c \"source /etc/network_turbo && env | grep proxy\"', shell=True, capture_output=True, text=True)\n",
    "output = result.stdout\n",
    "for line in output.splitlines():\n",
    "    if '=' in line:\n",
    "        var, value = line.split('=', 1)\n",
    "        os.environ[var] = value\n",
    "\n",
    "from huggingface_hub import notebook_login\n",
    "\n",
    "notebook_login()"
   ]
  },
  {
   "cell_type": "code",
   "execution_count": 7,
   "id": "efbbbf72",
   "metadata": {},
   "outputs": [
    {
     "data": {
      "application/vnd.jupyter.widget-view+json": {
       "model_id": "42cb18dbc2cb49b6829ee49575928916",
       "version_major": 2,
       "version_minor": 0
      },
      "text/plain": [
       "Generating train split: 0 examples [00:00, ? examples/s]"
      ]
     },
     "metadata": {},
     "output_type": "display_data"
    },
    {
     "data": {
      "application/vnd.jupyter.widget-view+json": {
       "model_id": "2d0e496f958f4e36bac8931f5316b4e3",
       "version_major": 2,
       "version_minor": 0
      },
      "text/plain": [
       "Generating test split: 0 examples [00:00, ? examples/s]"
      ]
     },
     "metadata": {},
     "output_type": "display_data"
    }
   ],
   "source": [
    "from datasets import load_dataset\n",
    "\n",
    "# Login using e.g. `huggingface-cli login` to access this dataset\n",
    "reason_ds = load_dataset(\"Ronndy/medical_o1_sft_Chinese\",cache_dir=\"./data/reason/\",split=\"train[:10]\")"
   ]
  },
  {
   "cell_type": "code",
   "execution_count": 8,
   "id": "3bda7a84",
   "metadata": {},
   "outputs": [
    {
     "data": {
      "text/plain": [
       "Dataset({\n",
       "    features: ['messages'],\n",
       "    num_rows: 10\n",
       "})"
      ]
     },
     "execution_count": 8,
     "metadata": {},
     "output_type": "execute_result"
    }
   ],
   "source": [
    "reason_ds"
   ]
  },
  {
   "cell_type": "code",
   "execution_count": 40,
   "id": "6d803db7",
   "metadata": {},
   "outputs": [
    {
     "name": "stdout",
     "output_type": "stream",
     "text": [
      "Starting to process the reasoning dataset (reason_ds), which has 10 items...\n",
      "Reasoning dataset processing complete.\n",
      "\n",
      "Starting to process the non-reasoning dataset (unreason_ds), which has 10 items...\n",
      "Non-reasoning dataset processing complete.\n",
      "\n",
      "Processing finished. Obtained a total of 20 shuffleable data blocks.\n",
      "Shuffling the data blocks...\n",
      "Data blocks have been shuffled.\n",
      "\n",
      "Writing 25 final records to file: processed_dataset_en.json ...\n",
      "\n",
      "Task complete!\n",
      "The integrated and corrected dataset has been saved as 'processed_dataset_en.json'.\n"
     ]
    }
   ],
   "source": [
    "import json\n",
    "import random\n",
    "import re\n",
    "\n",
    "data_to_shuffle = []\n",
    "\n",
    "# 3. Process the reasoning dataset (reason_ds)\n",
    "print(f\"Starting to process the reasoning dataset (reason_ds), which has {len(reason_ds)} items...\")\n",
    "for item in reason_ds:\n",
    "    messages = item.get('messages', [])\n",
    "    if len(messages) < 3:\n",
    "        continue\n",
    "\n",
    "    user_question = messages[1].get('content', '')\n",
    "    assistant_full_response = messages[2].get('content', '')\n",
    "\n",
    "    think_match = re.search(r'<think>(.*?)</think>', assistant_full_response, re.DOTALL)\n",
    "    response_match = re.search(r'<response>(.*?)</response>', assistant_full_response, re.DOTALL)\n",
    "    cot_content = think_match.group(1).strip() if think_match else \"\"\n",
    "    answer_content = response_match.group(1).strip() if response_match else \"\"\n",
    "\n",
    "    # Add the processed single dictionary as a \"data block\"\n",
    "    data_to_shuffle.append({\n",
    "        \"question\": user_question,\n",
    "        \"cot\": cot_content,\n",
    "        \"answer\": answer_content,\n",
    "        \"category\": \"reasoning\"\n",
    "    })\n",
    "print(\"Reasoning dataset processing complete.\")\n",
    "\n",
    "# 4. Process the non-reasoning dataset (unreason_ds)\n",
    "print(f\"\\nStarting to process the non-reasoning dataset (unreason_ds), which has {len(unreason_ds)} items...\")\n",
    "for item in unreason_ds:\n",
    "    conversations = item.get('conversations', [])\n",
    "    \n",
    "    # Create a \"block\" for the current multi-turn conversation\n",
    "    conversation_block = []\n",
    "    \n",
    "    for i in range(0, len(conversations), 2):\n",
    "        if i + 1 < len(conversations):\n",
    "            user_turn = conversations[i]\n",
    "            assistant_turn = conversations[i+1]\n",
    "            \n",
    "            if user_turn.get('role') == 'user' and assistant_turn.get('role') == 'assistant':\n",
    "                user_question = user_turn.get('content', '')\n",
    "                assistant_answer = assistant_turn.get('content', '')\n",
    "                \n",
    "                # Add the processed turn to the current \"block\"\n",
    "                conversation_block.append({\n",
    "                    \"question\": user_question,\n",
    "                    \"cot\": \"\", # COT is empty for this category\n",
    "                    \"answer\": assistant_answer,\n",
    "                    \"category\": \"un_reasoning\"\n",
    "                })\n",
    "\n",
    "    # Add the entire \"block\" to the list to be shuffled, only if it's not empty\n",
    "    if conversation_block:\n",
    "        data_to_shuffle.append(conversation_block)\n",
    "\n",
    "print(\"Non-reasoning dataset processing complete.\")\n",
    "\n",
    "# 5. Shuffle the \"data blocks\"\n",
    "print(f\"\\nProcessing finished. Obtained a total of {len(data_to_shuffle)} shuffleable data blocks.\")\n",
    "print(\"Shuffling the data blocks...\")\n",
    "random.shuffle(data_to_shuffle)\n",
    "print(\"Data blocks have been shuffled.\")\n",
    "\n",
    "# 6. Flatten the list and write to a JSON file\n",
    "final_processed_data = []\n",
    "for block in data_to_shuffle:\n",
    "    if isinstance(block, list):\n",
    "        # If the block is a list (a multi-turn conversation), extend the final list with its items\n",
    "        final_processed_data.extend(block)\n",
    "    else:\n",
    "        # If the block is a dict (a single reasoning entry), append it directly\n",
    "        final_processed_data.append(block)\n",
    "        \n",
    "output_filename = 'processed_dataset_en.json'\n",
    "print(f\"\\nWriting {len(final_processed_data)} final records to file: {output_filename} ...\")\n",
    "with open(output_filename, 'w', encoding='utf-8') as f:\n",
    "    # Use ensure_ascii=False for Chinese characters and indent for readability\n",
    "    json.dump(final_processed_data, f, ensure_ascii=False, indent=4)\n",
    "\n",
    "print(\"\\nTask complete!\")\n",
    "print(f\"The integrated and corrected dataset has been saved as '{output_filename}'.\")"
   ]
  },
  {
   "cell_type": "code",
   "execution_count": null,
   "id": "74ad5a64",
   "metadata": {},
   "outputs": [],
   "source": []
  },
  {
   "cell_type": "code",
   "execution_count": 44,
   "id": "b8cb2e4f",
   "metadata": {},
   "outputs": [
    {
     "name": "stdout",
     "output_type": "stream",
     "text": [
      "✅ 文件转换成功！\n",
      "总共处理了 25 条数据。\n",
      "结果已保存至: ./chatml_dataset.json\n"
     ]
    }
   ],
   "source": [
    "# 定义输入和输出文件名\n",
    "input_file = r\"F:\\workspace\\Fine_tuning_all\\based_Unsloth\\processed_dataset_en.json\"\n",
    "output_file = \"./chatml_dataset.json\"\n",
    "\n",
    "# 执行转换\n",
    "convert_to_chatml(input_file, output_file)"
   ]
  },
  {
   "cell_type": "code",
   "execution_count": 52,
   "id": "3e7ab442",
   "metadata": {},
   "outputs": [
    {
     "data": {
      "text/plain": [
       "{'conversations': [{'role': 'user',\n",
       "   'content': '请阅读问题并提供正确的答复。\\n问题：女性，50岁，上腹痛3月余，2月前钡透为胃窦后壁溃疡，经抗溃疡药物治疗8周疼痛曾一过性缓解，进一步处理应首选__选项：A. 继续药物治疗 B. 反复查便隐血试验 C. 钡餐检查 D. 胃镜检查 E. 手术治疗 '},\n",
       "  {'role': 'assistant', 'content': '<think></think>答案是：D'}]}"
      ]
     },
     "execution_count": 52,
     "metadata": {},
     "output_type": "execute_result"
    }
   ],
   "source": [
    "import json\n",
    "\n",
    "def convert_to_chatml(json_file_path):\n",
    "    \"\"\"\n",
    "    读取 JSON 文件并将其转换为 ChatML 格式。\n",
    "    \n",
    "    Args:\n",
    "        json_file_path (str): JSON 文件路径\n",
    "    \n",
    "    Returns:\n",
    "        list: 包含多个字典的列表，每个字典包含 'messages' 键\n",
    "    \"\"\"\n",
    "    with open(json_file_path, 'r', encoding='utf-8') as f:\n",
    "        data = json.load(f)\n",
    "    \n",
    "    chatml_data = []\n",
    "    \n",
    "    for item in data:\n",
    "        instruction = item[\"question\"]\n",
    "        cot = item[\"cot\"]\n",
    "        answer = item[\"answer\"]\n",
    "        \n",
    "        # 拼接 output: <think>cot</think> + answer\n",
    "        output = f\"<think>{cot}</think>{answer}\"\n",
    "        \n",
    "        # 构建 messages 结构\n",
    "        messages = [\n",
    "            {\"role\": \"user\", \"content\": instruction},\n",
    "            {\"role\": \"assistant\", \"content\": output}\n",
    "        ]\n",
    "        \n",
    "        chatml_data.append({\"conversations\": messages})\n",
    "    \n",
    "    return chatml_data\n",
    "result = convert_to_chatml(r\"F:\\workspace\\Fine_tuning_all\\based_Unsloth\\processed_dataset_en.json\")\n",
    "result[0]"
   ]
  },
  {
   "cell_type": "code",
   "execution_count": 53,
   "id": "d05f42a2",
   "metadata": {},
   "outputs": [],
   "source": [
    "from datasets import Dataset\n",
    "result = Dataset.from_list(result)"
   ]
  },
  {
   "cell_type": "code",
   "execution_count": 54,
   "id": "97e5d4e9",
   "metadata": {},
   "outputs": [
    {
     "data": {
      "text/plain": [
       "Dataset({\n",
       "    features: ['conversations'],\n",
       "    num_rows: 25\n",
       "})"
      ]
     },
     "execution_count": 54,
     "metadata": {},
     "output_type": "execute_result"
    }
   ],
   "source": [
    "result"
   ]
  },
  {
   "cell_type": "code",
   "execution_count": 57,
   "id": "263289df",
   "metadata": {},
   "outputs": [
    {
     "data": {
      "application/vnd.jupyter.widget-view+json": {
       "model_id": "8f6319f794984a1ca50389a764965f8b",
       "version_major": 2,
       "version_minor": 0
      },
      "text/plain": [
       "Map:   0%|          | 0/25 [00:00<?, ? examples/s]"
      ]
     },
     "metadata": {},
     "output_type": "display_data"
    }
   ],
   "source": [
    "def formatting_prompts_func(examples):\n",
    "   convos = examples[\"conversations\"]\n",
    "   texts = [tokenizer.apply_chat_template(convo, tokenize = False, add_generation_prompt = False) for convo in convos]\n",
    "   return { \"text\" : texts, }\n",
    "\n",
    "train_dataset = result.map(formatting_prompts_func, batched = True,remove_columns=result.column_names)"
   ]
  },
  {
   "cell_type": "code",
   "execution_count": 58,
   "id": "e15619bd",
   "metadata": {},
   "outputs": [
    {
     "data": {
      "text/plain": [
       "Dataset({\n",
       "    features: ['text'],\n",
       "    num_rows: 25\n",
       "})"
      ]
     },
     "execution_count": 58,
     "metadata": {},
     "output_type": "execute_result"
    }
   ],
   "source": [
    "train_dataset"
   ]
  },
  {
   "cell_type": "code",
   "execution_count": 60,
   "id": "03ea2c3f",
   "metadata": {},
   "outputs": [
    {
     "data": {
      "text/plain": [
       "{'text': '<|im_start|>system\\nYou are Qwen, created by Alibaba Cloud. You are a helpful assistant.<|im_end|>\\n<|im_start|>user\\n在足月顺产后，胎儿娩出时张女士阴道出血量约500ml，血液呈鲜红色且很快凝集成血块，但胎盘尚未娩出。这种情况下，出血的最可能原因是什么？<|im_end|>\\n<|im_start|>assistant\\n<think>哦，张女士在宝宝出生后的出血情况得仔细看看。出血量有500毫升，感觉有点多啊，鲜红色的血液流得快，却很快又凝结成血块，这有点意思。看来血液凝结的能力还不错，应该不是凝血功能有问题吧。\\n\\n不过，奇怪的是胎盘还没娩出。那出血的问题会不会和胎盘有关系呢？想想看，胎盘要是剥离不全的话，可能会开始出血。不过，血液应该是暗红色而不是鲜红色吧？这不太符合呀。\\n\\n另外，胎盘滞留确实是个大问题，尤其是在第三产程，不过这通常胎盘剥离的时候开始的，和这种鲜红出血不太对得上。\\n\\n还有个问题得考虑下，这种鲜红的血容易让人想到动脉的出血，也许是挺快的。再看，看起来胎盘的问题不太说得通，其他可能性呢？比如，子宫的宫缩乏力导致的大出血通常是在胎盘娩出后呀，现在胎盘还没下来呢。\\n\\n那会不会是生产过程中造成的撕裂或者损伤呢？软产道撕裂可以导致新鲜、鲜红的出血，这种出血的性质倒是和我们现在看到的差不多哦。\\n\\n嗯，回过头来看，虽然胎盘尚未娩出的确悬在心上，但基于出血的鲜红和快速凝结的特征，再加上一时看不到其他更切合的原因，能解释这鲜红色出血的就剩下软产道损伤了吧。</think>在这种情况下，张女士在胎儿娩出后出现的鲜红色出血，很可能是由于软产道损伤引起的。虽然胎盘尚未娩出通常会关注到胎盘剥离不全或胎盘滞留的问题，但这些情况通常伴随着暗红色出血，而非鲜红色。此外，鲜红色出血快速凝结成血块，也表明她的凝血功能似乎没有问题，因此最合理的推断是生产过程中造成了软产道撕裂，这种撕裂会导致鲜红色的出血。建议尽快由医护人员进行检查和处理，以确保安全。<|im_end|>\\n'}"
      ]
     },
     "execution_count": 60,
     "metadata": {},
     "output_type": "execute_result"
    }
   ],
   "source": [
    "train_dataset[10]"
   ]
  },
  {
   "cell_type": "code",
   "execution_count": null,
   "id": "57e12590",
   "metadata": {},
   "outputs": [],
   "source": []
  }
 ],
 "metadata": {
  "kernelspec": {
   "display_name": "deep_learning",
   "language": "python",
   "name": "python3"
  },
  "language_info": {
   "codemirror_mode": {
    "name": "ipython",
    "version": 3
   },
   "file_extension": ".py",
   "mimetype": "text/x-python",
   "name": "python",
   "nbconvert_exporter": "python",
   "pygments_lexer": "ipython3",
   "version": "3.12.3"
  }
 },
 "nbformat": 4,
 "nbformat_minor": 5
}
