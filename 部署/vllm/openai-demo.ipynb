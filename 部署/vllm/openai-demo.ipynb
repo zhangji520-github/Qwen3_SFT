{
 "cells": [
  {
   "cell_type": "code",
   "execution_count": 2,
   "metadata": {},
   "outputs": [
    {
     "name": "stdout",
     "output_type": "stream",
     "text": [
      "<think>We need to express the quadratic $x^2 + 100x + c$ in the form $(x + d)^2$.\n",
      "The square of a binomial $(x + d)^2$ expands to $x^2 + 2dx + d^2$.\n",
      "Comparing the coefficients, we see that $2d = 100$, which gives us $d = 50$.\n",
      "Now, substituting $d = 50$ into the expanded form, we get $(x + 50)^2 = x^2 + 100x + 50^2$.\n",
      "Calculating $50^2$ gives us $2500$.\n",
      "Therefore, the constant $c$ must be $2500$.\n",
      "Thus, the value of the constant $c$ is 2500.</think>\n",
      "To express $x^2 + 100x + c$ as the square of a binomial, we need to find two numbers that add up to 100 and multiply to $c$.\n",
      "Let's call these two numbers $a$ and $b$. Then we have the equations $a + b = 100$ and $ab = c$.\n",
      "We can solve for $a$ and $b$ by factoring the quadratic equation $x^2 + 100x + c = 0$.\n",
      "Factoring gives us $(x + a)(x + b) = 0$, which means $x = -a$ or $x = -b$.\n",
      "Since the quadratic equation has two equal roots, we know that $a = b$.\n",
      "Substituting this into the equation $a + b = 100$, we get $2a = 100$ and $a = 50$.\n",
      "Since $ab = c$, we have $50 \\cdot 50 = c$ and $c = \\boxed{2500}$.\n",
      "The answer is: 2500\n"
     ]
    }
   ],
   "source": [
    "import os\n",
    "from openai import OpenAI\n",
    "\n",
    "# client = OpenAI(\n",
    "#     # 若没有配置环境变量，请用百炼API Key将下行替换为：api_key=\"sk-xxx\",\n",
    "#     api_key=os.getenv(\"DASHSCOPE_API_KEY\"), # 如何获取API Key：https://help.aliyun.com/zh/model-studio/developer-reference/get-api-key\n",
    "#     base_url=\"https://dashscope.aliyuncs.com/compatible-mode/v1\",\n",
    "# )\n",
    "\n",
    "client = OpenAI(\n",
    "   \n",
    "    api_key=\"na\", \n",
    "    base_url=\"http://localhost:8000/v1\",\n",
    ")\n",
    "\n",
    "\n",
    "completion = client.chat.completions.create(\n",
    "    model=\"Qwen3-8B-lora\", \n",
    "    messages=[\n",
    "        {'role': 'system', 'content': 'You are a helpful assistant.'},\n",
    "        {'role': 'user', 'content': 'If $x^2 + 100x + c$ can be expressed as the square of a binomial, what is the value of the constant $c$?'}\n",
    "        ]\n",
    ")\n",
    "print(completion.choices[0].message.content)"
   ]
  },
  {
   "cell_type": "code",
   "execution_count": null,
   "metadata": {},
   "outputs": [],
   "source": []
  },
  {
   "cell_type": "code",
   "execution_count": null,
   "metadata": {},
   "outputs": [],
   "source": []
  }
 ],
 "metadata": {
  "kernelspec": {
   "display_name": "ame",
   "language": "python",
   "name": "python3"
  },
  "language_info": {
   "codemirror_mode": {
    "name": "ipython",
    "version": 3
   },
   "file_extension": ".py",
   "mimetype": "text/x-python",
   "name": "python",
   "nbconvert_exporter": "python",
   "pygments_lexer": "ipython3",
   "version": "3.12.0"
  }
 },
 "nbformat": 4,
 "nbformat_minor": 4
}
